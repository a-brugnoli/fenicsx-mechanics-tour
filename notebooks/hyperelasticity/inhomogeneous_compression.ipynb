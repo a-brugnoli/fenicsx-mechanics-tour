{
 "cells": [
  {
   "cell_type": "markdown",
   "metadata": {},
   "source": [
    "In this example, the imhomogeneous compression of a nearly incompressible cube is considered.\n",
    "Again a total Lagrangian formulation in a finite strain setting is considered. In the case the free-energy potential $\\psi(\\bF)$ depending on the deformation gradient $\\bF = \\bI + \\nabla \\bu$ is given by\n",
    "\n",
    "$\\psi(\\bF) = \\dfrac{\\mu}{2}\\left(I_1-3-2\\ln J\\right) + \\dfrac{\\lambda}{2}(J-1)^2$"
   ]
  },
  {
   "cell_type": "code",
   "execution_count": null,
   "metadata": {
    "vscode": {
     "languageId": "plaintext"
    }
   },
   "outputs": [],
   "source": []
  }
 ],
 "metadata": {
  "language_info": {
   "name": "python"
  }
 },
 "nbformat": 4,
 "nbformat_minor": 2
}
